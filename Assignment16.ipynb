{
 "cells": [
  {
   "cell_type": "markdown",
   "id": "163c2404-7721-41fa-b579-07dc3c239481",
   "metadata": {},
   "source": [
    "Q1. What is the role of feature selection in anomaly detection? "
   ]
  },
  {
   "cell_type": "code",
   "execution_count": null,
   "id": "8317def0-7f60-45cb-9958-7e9487f274c7",
   "metadata": {},
   "outputs": [],
   "source": [
    "Ans = Feature selection plays an important role when it comes to improve outlier detection in \n",
    "terms of identifying noisy data that contain irrelevant or redundant features.\n",
    "State-of-the-art work either focuses on unsupervised feature selection for data streams or outlier detection."
   ]
  },
  {
   "cell_type": "code",
   "execution_count": null,
   "id": "7d7b5fc6-6f2a-4595-ab74-beaffee573b0",
   "metadata": {},
   "outputs": [],
   "source": []
  },
  {
   "cell_type": "code",
   "execution_count": null,
   "id": "1767f713-8178-4f70-b396-5ed33701f0fe",
   "metadata": {},
   "outputs": [],
   "source": [
    "Q2. What are some common evaluation metrics for anomaly detection algorithms and how are they  computed?"
   ]
  },
  {
   "cell_type": "code",
   "execution_count": null,
   "id": "037c9377-3496-4cfa-8c49-17a965f3b4c0",
   "metadata": {},
   "outputs": [],
   "source": [
    "Ans = in order to evaluate the quality of an anomaly detection technique, \n",
    "the confusion matrix and its derived metrics such as precision and recall are used.\n",
    "These metrics, however, do not take this temporal dimension into consideration."
   ]
  },
  {
   "cell_type": "code",
   "execution_count": null,
   "id": "4ef980d3-dd43-4737-91ea-4b765272667b",
   "metadata": {},
   "outputs": [],
   "source": []
  },
  {
   "cell_type": "code",
   "execution_count": null,
   "id": "458501d1-a2db-4d31-88f3-38569ec715dd",
   "metadata": {},
   "outputs": [],
   "source": [
    "Q3. What is DBSCAN and how does it work for clustering? "
   ]
  },
  {
   "cell_type": "code",
   "execution_count": null,
   "id": "aab16f2a-5f3d-459a-ba22-00b64942b921",
   "metadata": {},
   "outputs": [],
   "source": [
    "Ans = DBSCAN is a density-based clustering algorithm that works on the assumption that clusters are dense\n",
    "regions in space separated by regions of lower density. \n",
    "It groups 'densely grouped' data points into a single cluster."
   ]
  },
  {
   "cell_type": "code",
   "execution_count": null,
   "id": "3d99405c-e8c5-472d-b652-96a372631f6d",
   "metadata": {},
   "outputs": [],
   "source": []
  },
  {
   "cell_type": "code",
   "execution_count": null,
   "id": "718e8f02-48ed-4e95-994a-96939d2cec2d",
   "metadata": {},
   "outputs": [],
   "source": [
    "Q4. How does the epsilon parameter affect the performance of DBSCAN in detecting anomalies? "
   ]
  },
  {
   "cell_type": "code",
   "execution_count": null,
   "id": "606937d4-94c5-452f-9b03-4bf087ad0b66",
   "metadata": {},
   "outputs": [],
   "source": [
    "Ans = If epsilon is chosen much too small, then a large part of the data will not be clustered.\n",
    "Too large epsilon: If epsilon is chosen much too large,\n",
    "then clusters will merge and the majority of objects will be in the same cluster."
   ]
  },
  {
   "cell_type": "code",
   "execution_count": null,
   "id": "c774ff49-6d7b-4588-994f-4b066d0abc88",
   "metadata": {},
   "outputs": [],
   "source": []
  },
  {
   "cell_type": "code",
   "execution_count": null,
   "id": "4cb31733-04b5-4f42-a320-3d95eda16514",
   "metadata": {},
   "outputs": [],
   "source": [
    "Q5. What are the differences between the core, border, and noise points in DBSCAN, and how do they relate  to anomaly detection?"
   ]
  },
  {
   "cell_type": "code",
   "execution_count": null,
   "id": "a19a198c-ee79-4b57-b07c-3d5eb1e7f6b5",
   "metadata": {},
   "outputs": [],
   "source": [
    "Ans = The Core Points, as the name suggests, lie usually within the interior of a cluster.\n",
    "A Border Point has fewer than MinPts within its ϵ-neighborhood (N),\n",
    "but it lies in the neighborhood of another core point.\n",
    "Noise is any data point that is neither core nor border point."
   ]
  },
  {
   "cell_type": "code",
   "execution_count": null,
   "id": "2cbbee42-fa6e-4435-8347-e7fda2438bd1",
   "metadata": {},
   "outputs": [],
   "source": []
  },
  {
   "cell_type": "code",
   "execution_count": null,
   "id": "351cdf6b-51b2-445e-8bf3-df853939c508",
   "metadata": {},
   "outputs": [],
   "source": [
    "Q6. How does DBSCAN detect anomalies and what are the key parameters involved in the process?"
   ]
  },
  {
   "cell_type": "code",
   "execution_count": null,
   "id": "b11dd214-3177-46c9-a3fd-7a48427a80ab",
   "metadata": {},
   "outputs": [],
   "source": [
    "Ans = Step 1: Import libraries. For this demo, we need three key libraries for data wrangling, visualization and modeling.\n",
    "Step 2: Import & visualize data.\n",
    "Step 3: Modeling.\n",
    "Step 4: Visualizing.\n",
    "Step 5: Creating an outliers data frame."
   ]
  },
  {
   "cell_type": "code",
   "execution_count": null,
   "id": "96262770-1d3e-46d4-8099-56fc07887e4d",
   "metadata": {},
   "outputs": [],
   "source": []
  },
  {
   "cell_type": "code",
   "execution_count": null,
   "id": "4b738f5a-5422-4ac5-a293-c006bcda8130",
   "metadata": {},
   "outputs": [],
   "source": [
    " Q7. What is the make_circles package in scikit-learn used for? "
   ]
  },
  {
   "cell_type": "code",
   "execution_count": null,
   "id": "8f572389-b0b0-4f92-b011-df52b0f57bbb",
   "metadata": {},
   "outputs": [],
   "source": [
    "Ans = Make a large circle containing a smaller circle in 2d.\n",
    "A simple toy dataset to visualize clustering and classification algorithms."
   ]
  },
  {
   "cell_type": "code",
   "execution_count": null,
   "id": "337b9ca9-953c-4e7c-b09f-8bc81ffbb131",
   "metadata": {},
   "outputs": [],
   "source": []
  },
  {
   "cell_type": "code",
   "execution_count": null,
   "id": "74fd6fd3-80ce-42d7-bdb0-91ca4b3533f6",
   "metadata": {},
   "outputs": [],
   "source": [
    "Q8. What are local outliers and global outliers, and how do they differ from each other?"
   ]
  },
  {
   "cell_type": "code",
   "execution_count": null,
   "id": "76e54320-da42-497c-93e8-b84281bb7083",
   "metadata": {},
   "outputs": [],
   "source": [
    "Ans = There are two general types of outlier detection: global and local.\n",
    "Global outliers fall outside the normal range for an entire dataset,\n",
    "whereas local outliers may fall within the normal range for the entire dataset,\n",
    "but outside the normal range for the surrounding data points."
   ]
  },
  {
   "cell_type": "code",
   "execution_count": null,
   "id": "49f43af2-43b2-4c9b-8933-1b6821974785",
   "metadata": {},
   "outputs": [],
   "source": []
  },
  {
   "cell_type": "code",
   "execution_count": null,
   "id": "e4564d7f-8e3d-4b95-b8e7-0ddf2d3e1342",
   "metadata": {},
   "outputs": [],
   "source": [
    "Q9. How can local outliers be detected using the Local Outlier Factor (LOF) algorithm?"
   ]
  },
  {
   "cell_type": "code",
   "execution_count": null,
   "id": "f8644144-4595-4f6c-9209-a27e1911aa64",
   "metadata": {},
   "outputs": [],
   "source": [
    "Ans = The Local Outlier Factor (LOF) algorithm is an unsupervised anomaly detection method\n",
    "which computes the local density deviation of a given data point with respect to its neighbors. \n",
    "It considers as outliers the samples that have a substantially lower density than their neighbors."
   ]
  },
  {
   "cell_type": "code",
   "execution_count": null,
   "id": "13e462c8-d327-4301-a368-5e65be09febf",
   "metadata": {},
   "outputs": [],
   "source": []
  },
  {
   "cell_type": "code",
   "execution_count": null,
   "id": "71ef6bc6-f8bb-48c3-bf60-8daf3fd2f573",
   "metadata": {},
   "outputs": [],
   "source": [
    "Q10. How can global outliers be detected using the Isolation Forest algorithm? "
   ]
  },
  {
   "cell_type": "code",
   "execution_count": null,
   "id": "e6ed6194-d86e-4c11-b957-822c48736071",
   "metadata": {},
   "outputs": [],
   "source": [
    "Ans = Isolation Forest is based on the Decision Tree algorithm. It isolates the outliers by randomly selecting \n",
    "a feature from the given set of features and then randomly selecting a split \n",
    "value between the max and min values of that feature."
   ]
  },
  {
   "cell_type": "code",
   "execution_count": null,
   "id": "e030d183-1fc3-47d6-a4d7-7f5531290676",
   "metadata": {},
   "outputs": [],
   "source": []
  },
  {
   "cell_type": "code",
   "execution_count": null,
   "id": "6afa1322-996c-432c-9ee2-7690a535614e",
   "metadata": {},
   "outputs": [],
   "source": [
    "Q11. What are some real-world applications where local outlier detection is more appropriate than global  outlier detection, and vice versa? "
   ]
  },
  {
   "cell_type": "code",
   "execution_count": null,
   "id": "ac25aac6-599c-4f40-bf34-df0004fbf43a",
   "metadata": {},
   "outputs": [],
   "source": [
    "Ans = Outlier detection is one of the major components of data mining.\n",
    "It is an important task in various application domains. The discovery of outliers is useful in certain areas like fraud detection in credit cards or calling cards, discovering computer intrusion, criminal behavior, etc"
   ]
  }
 ],
 "metadata": {
  "kernelspec": {
   "display_name": "Python 3 (ipykernel)",
   "language": "python",
   "name": "python3"
  },
  "language_info": {
   "codemirror_mode": {
    "name": "ipython",
    "version": 3
   },
   "file_extension": ".py",
   "mimetype": "text/x-python",
   "name": "python",
   "nbconvert_exporter": "python",
   "pygments_lexer": "ipython3",
   "version": "3.10.8"
  }
 },
 "nbformat": 4,
 "nbformat_minor": 5
}
